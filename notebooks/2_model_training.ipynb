{
 "cells": [
  {
   "cell_type": "markdown",
   "metadata": {},
   "source": [
    "## Introduction\n",
    "In this notebook, we preprocess the data and train two models:\n",
    "- **Random Forest**: A traditional machine learning model.\n",
    "- **Neural Network**: A deep learning model.\n",
    "\n",
    "The results are logged in MLFlow for tracking and comparison.\n"
   ]
  },
  {
   "cell_type": "code",
   "execution_count": 23,
   "metadata": {},
   "outputs": [
    {
     "name": "stdout",
     "output_type": "stream",
     "text": [
      "📌 Project root added to Python path: f:\\Portfolio Projects\\fault_prediction_project\n"
     ]
    }
   ],
   "source": [
    "# 📌 Set up environment\n",
    "import sys\n",
    "import os\n",
    "\n",
    "# Set working directory to project root\n",
    "project_root = os.path.abspath(os.path.join(os.path.dirname(\"__file__\"), \"..\"))\n",
    "sys.path.append(project_root)\n",
    "print(f\"📌 Project root added to Python path: {project_root}\")"
   ]
  },
  {
   "cell_type": "code",
   "execution_count": 24,
   "metadata": {},
   "outputs": [],
   "source": [
    "# Disable TensorFlow oneDNN optimizations to avoid floating-point rounding issues\n",
    "os.environ[\"TF_ENABLE_ONEDNN_OPTS\"] = \"0\""
   ]
  },
  {
   "cell_type": "code",
   "execution_count": 25,
   "metadata": {},
   "outputs": [],
   "source": [
    "# 📌 Import libraries\n",
    "import mlflow\n",
    "import mlflow.sklearn\n",
    "import mlflow.keras\n",
    "import joblib\n",
    "import pandas as pd\n",
    "import tensorflow as tf\n",
    "from sklearn.ensemble import RandomForestClassifier\n",
    "from sklearn.metrics import accuracy_score, f1_score\n",
    "from sklearn.preprocessing import LabelEncoder\n",
    "from tensorflow.keras.models import Sequential\n",
    "from tensorflow.keras.layers import Dense, Dropout\n",
    "from tensorflow.keras.optimizers import Adam\n",
    "from tensorflow.keras.callbacks import EarlyStopping\n",
    "from sklearn.model_selection import train_test_split\n"
   ]
  },
  {
   "cell_type": "code",
   "execution_count": 26,
   "metadata": {},
   "outputs": [
    {
     "data": {
      "text/plain": [
       "<Experiment: artifact_location='file:///F:/Portfolio%20Projects/fault_prediction_project/mlruns/560277888509444402', creation_time=1738156492984, experiment_id='560277888509444402', last_update_time=1738156492984, lifecycle_stage='active', name='NEV Fault Prediction', tags={}>"
      ]
     },
     "execution_count": 26,
     "metadata": {},
     "output_type": "execute_result"
    }
   ],
   "source": [
    "# ✅ Set MLflow tracking\n",
    "mlflow.set_tracking_uri(\"file:F:/Portfolio Projects/fault_prediction_project/mlruns\")\n",
    "mlflow.set_experiment(\"NEV Fault Prediction\")"
   ]
  },
  {
   "cell_type": "code",
   "execution_count": 27,
   "metadata": {},
   "outputs": [
    {
     "name": "stdout",
     "output_type": "stream",
     "text": [
      "Updated working directory: F:\\Portfolio Projects\\fault_prediction_project\n",
      "\n",
      "📂 Loading Dataset...\n",
      "✅ Dataset Loaded: (1000, 18)\n",
      "   battery_voltage  battery_current  engine_temperature  motor_efficiency  \\\n",
      "0        12.623620        11.479653           83.085284         93.454060   \n",
      "1        14.352143        23.966533           82.348940         95.933628   \n",
      "2        13.695982        35.553104          115.312729         85.009358   \n",
      "3        13.295975        30.627871           82.477310         92.497482   \n",
      "4        11.968056        33.229640           83.597486         91.434920   \n",
      "\n",
      "   tire_pressure  fuel_efficiency       speed  acceleration  driving_distance  \\\n",
      "0      35.719959        13.936355   77.790834      0.116398        360.133962   \n",
      "1      38.054323        14.734357   20.686363      0.560318        343.641502   \n",
      "2      37.601609        18.545474  104.687348      2.493737         47.877099   \n",
      "3      31.538999        13.400044   73.573949      2.300305        461.286202   \n",
      "4      31.492495        18.696497   18.864466      1.051928        284.236101   \n",
      "\n",
      "   ambient_temperature   humidity road_condition  last_service_distance  \\\n",
      "0            35.678901  46.154857          Hilly           14137.962594   \n",
      "1            16.268024  43.303847         Smooth            7157.749964   \n",
      "2            26.245514  32.330774         Smooth            5435.949218   \n",
      "3            11.802415  62.508667          Bumpy            8054.105310   \n",
      "4            21.501729  53.363691          Hilly           11958.023148   \n",
      "\n",
      "   service_frequency  repair_cost  downtime          fault_type  \\\n",
      "0               5000          200         1  sensor_malfunction   \n",
      "1              15000          200         1  engine_overheating   \n",
      "2               5000          100         1  engine_overheating   \n",
      "3              10000          200         2       battery_issue   \n",
      "4              10000          200         2            no_fault   \n",
      "\n",
      "   time_since_last_fault  \n",
      "0                      3  \n",
      "1                      4  \n",
      "2                     10  \n",
      "3                      1  \n",
      "4                     11  \n"
     ]
    }
   ],
   "source": [
    "# ✅ Load Data Processor\n",
    "from src.data_processor import DataProcessor\n",
    "\n",
    "# 📂 **Load Dataset**\n",
    "data_file_path = \"F:/Portfolio Projects/fault_prediction_project/data/Fault_nev_dataset.csv\"\n",
    "processor = DataProcessor(data_file_path)\n",
    "\n",
    "print(\"\\n📂 Loading Dataset...\")\n",
    "data = processor.load_data()\n",
    "print(f\"✅ Dataset Loaded: {data.shape}\")\n",
    "print(data.head())"
   ]
  },
  {
   "cell_type": "code",
   "execution_count": 28,
   "metadata": {},
   "outputs": [
    {
     "name": "stdout",
     "output_type": "stream",
     "text": [
      "\n",
      "🛠️ Preprocessing Dataset...\n",
      "✅ Features Shape: (1628, 17), Target Shape: (1628,)\n"
     ]
    }
   ],
   "source": [
    "# 🛠 **Preprocess Dataset**\n",
    "print(\"\\n🛠️ Preprocessing Dataset...\")\n",
    "X, y = processor.preprocess(target_column=\"fault_type\", categorical_columns=[\"road_condition\"])\n",
    "print(f\"✅ Features Shape: {X.shape}, Target Shape: {y.shape}\")"
   ]
  },
  {
   "cell_type": "code",
   "execution_count": 29,
   "metadata": {},
   "outputs": [
    {
     "name": "stdout",
     "output_type": "stream",
     "text": [
      "\n",
      "📊 Splitting Data...\n",
      "✅ Training Set: (1302, 17), (1302,)\n",
      "✅ Testing Set: (326, 17), (326,)\n"
     ]
    }
   ],
   "source": [
    "# 📊 **Split Data**\n",
    "print(\"\\n📊 Splitting Data...\")\n",
    "X_train, X_test, y_train, y_test = train_test_split(X, y, test_size=0.2, random_state=42)\n",
    "print(f\"✅ Training Set: {X_train.shape}, {y_train.shape}\")\n",
    "print(f\"✅ Testing Set: {X_test.shape}, {y_test.shape}\")\n"
   ]
  },
  {
   "cell_type": "code",
   "execution_count": 31,
   "metadata": {},
   "outputs": [
    {
     "name": "stdout",
     "output_type": "stream",
     "text": [
      "\n",
      "🌲 Training Random Forest Model...\n",
      "🎯 Random Forest - Accuracy: 0.66, F1 Score: 0.66\n"
     ]
    },
    {
     "name": "stderr",
     "output_type": "stream",
     "text": [
      "2025/01/29 23:10:03 WARNING mlflow.models.model: Model logged without a signature and input example. Please set `input_example` parameter when logging the model to auto infer the model signature.\n"
     ]
    },
    {
     "name": "stdout",
     "output_type": "stream",
     "text": [
      "✅ Random Forest model logged to MLflow.\n"
     ]
    }
   ],
   "source": [
    "# ✅ **Initialize MLflow Experiment**\n",
    "mlflow.set_experiment(\"NEV Fault Prediction\")\n",
    "\n",
    "# -----------------------------------\n",
    "# 🌲 **Train Random Forest Model**\n",
    "# -----------------------------------\n",
    "print(\"\\n🌲 Training Random Forest Model...\")\n",
    "\n",
    "with mlflow.start_run(run_name=\"Random Forest Classifier\"):\n",
    "    try:\n",
    "        rf_model = RandomForestClassifier(n_estimators=100, random_state=42)\n",
    "        rf_model.fit(X_train, y_train)\n",
    "\n",
    "        # Predictions & Metrics\n",
    "        y_pred_rf = rf_model.predict(X_test)\n",
    "        accuracy_rf = accuracy_score(y_test, y_pred_rf)\n",
    "        f1_rf = f1_score(y_test, y_pred_rf, average=\"weighted\")\n",
    "\n",
    "        print(f\"🎯 Random Forest - Accuracy: {accuracy_rf:.2f}, F1 Score: {f1_rf:.2f}\")\n",
    "\n",
    "        # Log model & metrics to MLflow\n",
    "        mlflow.log_param(\"Model\", \"Random Forest\")\n",
    "        mlflow.log_param(\"n_estimators\", 100)\n",
    "        mlflow.log_metric(\"Accuracy\", accuracy_rf)\n",
    "        mlflow.log_metric(\"F1 Score\", f1_rf)\n",
    "        mlflow.sklearn.log_model(rf_model, \"random_forest_model\")\n",
    "\n",
    "        print(\"✅ Random Forest model logged to MLflow.\")\n",
    "\n",
    "    except Exception as e:\n",
    "        print(f\"❌ Error during Random Forest training: {e}\")"
   ]
  },
  {
   "cell_type": "code",
   "execution_count": 32,
   "metadata": {},
   "outputs": [
    {
     "name": "stdout",
     "output_type": "stream",
     "text": [
      "\n",
      "🤖 Training Neural Network Model...\n"
     ]
    },
    {
     "name": "stderr",
     "output_type": "stream",
     "text": [
      "c:\\Users\\niloy\\AppData\\Local\\Programs\\Python\\Python312\\Lib\\site-packages\\keras\\src\\layers\\core\\dense.py:87: UserWarning: Do not pass an `input_shape`/`input_dim` argument to a layer. When using Sequential models, prefer using an `Input(shape)` object as the first layer in the model instead.\n",
      "  super().__init__(activity_regularizer=activity_regularizer, **kwargs)\n"
     ]
    },
    {
     "name": "stdout",
     "output_type": "stream",
     "text": [
      "🚀 Training the Neural Network...\n",
      "Epoch 1/100\n",
      "\u001b[1m41/41\u001b[0m \u001b[32m━━━━━━━━━━━━━━━━━━━━\u001b[0m\u001b[37m\u001b[0m \u001b[1m5s\u001b[0m 23ms/step - accuracy: 0.2498 - loss: 1.4312 - val_accuracy: 0.2577 - val_loss: 1.3820\n",
      "Epoch 2/100\n",
      "\u001b[1m41/41\u001b[0m \u001b[32m━━━━━━━━━━━━━━━━━━━━\u001b[0m\u001b[37m\u001b[0m \u001b[1m0s\u001b[0m 9ms/step - accuracy: 0.2620 - loss: 1.3855 - val_accuracy: 0.3067 - val_loss: 1.3739\n",
      "Epoch 3/100\n",
      "\u001b[1m41/41\u001b[0m \u001b[32m━━━━━━━━━━━━━━━━━━━━\u001b[0m\u001b[37m\u001b[0m \u001b[1m0s\u001b[0m 8ms/step - accuracy: 0.3144 - loss: 1.3617 - val_accuracy: 0.2945 - val_loss: 1.3650\n",
      "Epoch 4/100\n",
      "\u001b[1m41/41\u001b[0m \u001b[32m━━━━━━━━━━━━━━━━━━━━\u001b[0m\u001b[37m\u001b[0m \u001b[1m0s\u001b[0m 8ms/step - accuracy: 0.3460 - loss: 1.3507 - val_accuracy: 0.3436 - val_loss: 1.3516\n",
      "Epoch 5/100\n",
      "\u001b[1m41/41\u001b[0m \u001b[32m━━━━━━━━━━━━━━━━━━━━\u001b[0m\u001b[37m\u001b[0m \u001b[1m0s\u001b[0m 8ms/step - accuracy: 0.3663 - loss: 1.3276 - val_accuracy: 0.3497 - val_loss: 1.3439\n",
      "Epoch 6/100\n",
      "\u001b[1m41/41\u001b[0m \u001b[32m━━━━━━━━━━━━━━━━━━━━\u001b[0m\u001b[37m\u001b[0m \u001b[1m0s\u001b[0m 8ms/step - accuracy: 0.3671 - loss: 1.3170 - val_accuracy: 0.3466 - val_loss: 1.3366\n",
      "Epoch 7/100\n",
      "\u001b[1m41/41\u001b[0m \u001b[32m━━━━━━━━━━━━━━━━━━━━\u001b[0m\u001b[37m\u001b[0m \u001b[1m0s\u001b[0m 8ms/step - accuracy: 0.4115 - loss: 1.2980 - val_accuracy: 0.3558 - val_loss: 1.3335\n",
      "Epoch 8/100\n",
      "\u001b[1m41/41\u001b[0m \u001b[32m━━━━━━━━━━━━━━━━━━━━\u001b[0m\u001b[37m\u001b[0m \u001b[1m0s\u001b[0m 9ms/step - accuracy: 0.4002 - loss: 1.2875 - val_accuracy: 0.3773 - val_loss: 1.3187\n",
      "Epoch 9/100\n",
      "\u001b[1m41/41\u001b[0m \u001b[32m━━━━━━━━━━━━━━━━━━━━\u001b[0m\u001b[37m\u001b[0m \u001b[1m1s\u001b[0m 11ms/step - accuracy: 0.4255 - loss: 1.2581 - val_accuracy: 0.3865 - val_loss: 1.3076\n",
      "Epoch 10/100\n",
      "\u001b[1m41/41\u001b[0m \u001b[32m━━━━━━━━━━━━━━━━━━━━\u001b[0m\u001b[37m\u001b[0m \u001b[1m1s\u001b[0m 8ms/step - accuracy: 0.4483 - loss: 1.2352 - val_accuracy: 0.4110 - val_loss: 1.2976\n",
      "Epoch 11/100\n",
      "\u001b[1m41/41\u001b[0m \u001b[32m━━━━━━━━━━━━━━━━━━━━\u001b[0m\u001b[37m\u001b[0m \u001b[1m1s\u001b[0m 9ms/step - accuracy: 0.4604 - loss: 1.2031 - val_accuracy: 0.4172 - val_loss: 1.2810\n",
      "Epoch 12/100\n",
      "\u001b[1m41/41\u001b[0m \u001b[32m━━━━━━━━━━━━━━━━━━━━\u001b[0m\u001b[37m\u001b[0m \u001b[1m0s\u001b[0m 8ms/step - accuracy: 0.4702 - loss: 1.1893 - val_accuracy: 0.4202 - val_loss: 1.2701\n",
      "Epoch 13/100\n",
      "\u001b[1m41/41\u001b[0m \u001b[32m━━━━━━━━━━━━━━━━━━━━\u001b[0m\u001b[37m\u001b[0m \u001b[1m0s\u001b[0m 9ms/step - accuracy: 0.4879 - loss: 1.1721 - val_accuracy: 0.4417 - val_loss: 1.2566\n",
      "Epoch 14/100\n",
      "\u001b[1m41/41\u001b[0m \u001b[32m━━━━━━━━━━━━━━━━━━━━\u001b[0m\u001b[37m\u001b[0m \u001b[1m0s\u001b[0m 8ms/step - accuracy: 0.5070 - loss: 1.1408 - val_accuracy: 0.4540 - val_loss: 1.2363\n",
      "Epoch 15/100\n",
      "\u001b[1m41/41\u001b[0m \u001b[32m━━━━━━━━━━━━━━━━━━━━\u001b[0m\u001b[37m\u001b[0m \u001b[1m0s\u001b[0m 9ms/step - accuracy: 0.5089 - loss: 1.1137 - val_accuracy: 0.4294 - val_loss: 1.2329\n",
      "Epoch 16/100\n",
      "\u001b[1m41/41\u001b[0m \u001b[32m━━━━━━━━━━━━━━━━━━━━\u001b[0m\u001b[37m\u001b[0m \u001b[1m1s\u001b[0m 8ms/step - accuracy: 0.5262 - loss: 1.1247 - val_accuracy: 0.4356 - val_loss: 1.2272\n",
      "Epoch 17/100\n",
      "\u001b[1m41/41\u001b[0m \u001b[32m━━━━━━━━━━━━━━━━━━━━\u001b[0m\u001b[37m\u001b[0m \u001b[1m0s\u001b[0m 8ms/step - accuracy: 0.5478 - loss: 1.1052 - val_accuracy: 0.4448 - val_loss: 1.2128\n",
      "Epoch 18/100\n",
      "\u001b[1m41/41\u001b[0m \u001b[32m━━━━━━━━━━━━━━━━━━━━\u001b[0m\u001b[37m\u001b[0m \u001b[1m0s\u001b[0m 8ms/step - accuracy: 0.5400 - loss: 1.0815 - val_accuracy: 0.4509 - val_loss: 1.2026\n",
      "Epoch 19/100\n",
      "\u001b[1m41/41\u001b[0m \u001b[32m━━━━━━━━━━━━━━━━━━━━\u001b[0m\u001b[37m\u001b[0m \u001b[1m0s\u001b[0m 9ms/step - accuracy: 0.5553 - loss: 1.0635 - val_accuracy: 0.4571 - val_loss: 1.1982\n",
      "Epoch 20/100\n",
      "\u001b[1m41/41\u001b[0m \u001b[32m━━━━━━━━━━━━━━━━━━━━\u001b[0m\u001b[37m\u001b[0m \u001b[1m0s\u001b[0m 9ms/step - accuracy: 0.5674 - loss: 1.0342 - val_accuracy: 0.4755 - val_loss: 1.1820\n",
      "Epoch 21/100\n",
      "\u001b[1m41/41\u001b[0m \u001b[32m━━━━━━━━━━━━━━━━━━━━\u001b[0m\u001b[37m\u001b[0m \u001b[1m0s\u001b[0m 9ms/step - accuracy: 0.5366 - loss: 1.0364 - val_accuracy: 0.4724 - val_loss: 1.1725\n",
      "Epoch 22/100\n",
      "\u001b[1m41/41\u001b[0m \u001b[32m━━━━━━━━━━━━━━━━━━━━\u001b[0m\u001b[37m\u001b[0m \u001b[1m1s\u001b[0m 12ms/step - accuracy: 0.5911 - loss: 1.0146 - val_accuracy: 0.4816 - val_loss: 1.1775\n",
      "Epoch 23/100\n",
      "\u001b[1m41/41\u001b[0m \u001b[32m━━━━━━━━━━━━━━━━━━━━\u001b[0m\u001b[37m\u001b[0m \u001b[1m0s\u001b[0m 9ms/step - accuracy: 0.5993 - loss: 1.0161 - val_accuracy: 0.4785 - val_loss: 1.1766\n",
      "Epoch 24/100\n",
      "\u001b[1m41/41\u001b[0m \u001b[32m━━━━━━━━━━━━━━━━━━━━\u001b[0m\u001b[37m\u001b[0m \u001b[1m0s\u001b[0m 9ms/step - accuracy: 0.6024 - loss: 0.9781 - val_accuracy: 0.4847 - val_loss: 1.1703\n",
      "Epoch 25/100\n",
      "\u001b[1m41/41\u001b[0m \u001b[32m━━━━━━━━━━━━━━━━━━━━\u001b[0m\u001b[37m\u001b[0m \u001b[1m0s\u001b[0m 9ms/step - accuracy: 0.5896 - loss: 0.9833 - val_accuracy: 0.4939 - val_loss: 1.1642\n",
      "Epoch 26/100\n",
      "\u001b[1m41/41\u001b[0m \u001b[32m━━━━━━━━━━━━━━━━━━━━\u001b[0m\u001b[37m\u001b[0m \u001b[1m0s\u001b[0m 8ms/step - accuracy: 0.6018 - loss: 0.9894 - val_accuracy: 0.5061 - val_loss: 1.1512\n",
      "Epoch 27/100\n",
      "\u001b[1m41/41\u001b[0m \u001b[32m━━━━━━━━━━━━━━━━━━━━\u001b[0m\u001b[37m\u001b[0m \u001b[1m1s\u001b[0m 10ms/step - accuracy: 0.6087 - loss: 0.9554 - val_accuracy: 0.4969 - val_loss: 1.1532\n",
      "Epoch 28/100\n",
      "\u001b[1m41/41\u001b[0m \u001b[32m━━━━━━━━━━━━━━━━━━━━\u001b[0m\u001b[37m\u001b[0m \u001b[1m0s\u001b[0m 9ms/step - accuracy: 0.6071 - loss: 0.9570 - val_accuracy: 0.5184 - val_loss: 1.1454\n",
      "Epoch 29/100\n",
      "\u001b[1m41/41\u001b[0m \u001b[32m━━━━━━━━━━━━━━━━━━━━\u001b[0m\u001b[37m\u001b[0m \u001b[1m0s\u001b[0m 8ms/step - accuracy: 0.6318 - loss: 0.9415 - val_accuracy: 0.5123 - val_loss: 1.1446\n",
      "Epoch 30/100\n",
      "\u001b[1m41/41\u001b[0m \u001b[32m━━━━━━━━━━━━━━━━━━━━\u001b[0m\u001b[37m\u001b[0m \u001b[1m1s\u001b[0m 9ms/step - accuracy: 0.6268 - loss: 0.9215 - val_accuracy: 0.5184 - val_loss: 1.1350\n",
      "Epoch 31/100\n",
      "\u001b[1m41/41\u001b[0m \u001b[32m━━━━━━━━━━━━━━━━━━━━\u001b[0m\u001b[37m\u001b[0m \u001b[1m0s\u001b[0m 8ms/step - accuracy: 0.6173 - loss: 0.9021 - val_accuracy: 0.5215 - val_loss: 1.1316\n",
      "Epoch 32/100\n",
      "\u001b[1m41/41\u001b[0m \u001b[32m━━━━━━━━━━━━━━━━━━━━\u001b[0m\u001b[37m\u001b[0m \u001b[1m0s\u001b[0m 10ms/step - accuracy: 0.6339 - loss: 0.8687 - val_accuracy: 0.5153 - val_loss: 1.1304\n",
      "Epoch 33/100\n",
      "\u001b[1m41/41\u001b[0m \u001b[32m━━━━━━━━━━━━━━━━━━━━\u001b[0m\u001b[37m\u001b[0m \u001b[1m1s\u001b[0m 9ms/step - accuracy: 0.6482 - loss: 0.9036 - val_accuracy: 0.5184 - val_loss: 1.1223\n",
      "Epoch 34/100\n",
      "\u001b[1m41/41\u001b[0m \u001b[32m━━━━━━━━━━━━━━━━━━━━\u001b[0m\u001b[37m\u001b[0m \u001b[1m1s\u001b[0m 8ms/step - accuracy: 0.6391 - loss: 0.9138 - val_accuracy: 0.5276 - val_loss: 1.1203\n",
      "Epoch 35/100\n",
      "\u001b[1m41/41\u001b[0m \u001b[32m━━━━━━━━━━━━━━━━━━━━\u001b[0m\u001b[37m\u001b[0m \u001b[1m1s\u001b[0m 12ms/step - accuracy: 0.6528 - loss: 0.8511 - val_accuracy: 0.5276 - val_loss: 1.1274\n",
      "Epoch 36/100\n",
      "\u001b[1m41/41\u001b[0m \u001b[32m━━━━━━━━━━━━━━━━━━━━\u001b[0m\u001b[37m\u001b[0m \u001b[1m0s\u001b[0m 9ms/step - accuracy: 0.6472 - loss: 0.8523 - val_accuracy: 0.5245 - val_loss: 1.1222\n",
      "Epoch 37/100\n",
      "\u001b[1m41/41\u001b[0m \u001b[32m━━━━━━━━━━━━━━━━━━━━\u001b[0m\u001b[37m\u001b[0m \u001b[1m1s\u001b[0m 19ms/step - accuracy: 0.6638 - loss: 0.8691 - val_accuracy: 0.5368 - val_loss: 1.1156\n",
      "Epoch 38/100\n",
      "\u001b[1m41/41\u001b[0m \u001b[32m━━━━━━━━━━━━━━━━━━━━\u001b[0m\u001b[37m\u001b[0m \u001b[1m0s\u001b[0m 10ms/step - accuracy: 0.6538 - loss: 0.8389 - val_accuracy: 0.5153 - val_loss: 1.1117\n",
      "Epoch 39/100\n",
      "\u001b[1m41/41\u001b[0m \u001b[32m━━━━━━━━━━━━━━━━━━━━\u001b[0m\u001b[37m\u001b[0m \u001b[1m0s\u001b[0m 9ms/step - accuracy: 0.6550 - loss: 0.8551 - val_accuracy: 0.5276 - val_loss: 1.1124\n",
      "Epoch 40/100\n",
      "\u001b[1m41/41\u001b[0m \u001b[32m━━━━━━━━━━━━━━━━━━━━\u001b[0m\u001b[37m\u001b[0m \u001b[1m1s\u001b[0m 9ms/step - accuracy: 0.6687 - loss: 0.8329 - val_accuracy: 0.5153 - val_loss: 1.1057\n",
      "Epoch 41/100\n",
      "\u001b[1m41/41\u001b[0m \u001b[32m━━━━━━━━━━━━━━━━━━━━\u001b[0m\u001b[37m\u001b[0m \u001b[1m1s\u001b[0m 10ms/step - accuracy: 0.6668 - loss: 0.8393 - val_accuracy: 0.5307 - val_loss: 1.1184\n",
      "Epoch 42/100\n",
      "\u001b[1m41/41\u001b[0m \u001b[32m━━━━━━━━━━━━━━━━━━━━\u001b[0m\u001b[37m\u001b[0m \u001b[1m1s\u001b[0m 9ms/step - accuracy: 0.6602 - loss: 0.8410 - val_accuracy: 0.5613 - val_loss: 1.0941\n",
      "Epoch 43/100\n",
      "\u001b[1m41/41\u001b[0m \u001b[32m━━━━━━━━━━━━━━━━━━━━\u001b[0m\u001b[37m\u001b[0m \u001b[1m0s\u001b[0m 8ms/step - accuracy: 0.7029 - loss: 0.7778 - val_accuracy: 0.5460 - val_loss: 1.0919\n",
      "Epoch 44/100\n",
      "\u001b[1m41/41\u001b[0m \u001b[32m━━━━━━━━━━━━━━━━━━━━\u001b[0m\u001b[37m\u001b[0m \u001b[1m0s\u001b[0m 9ms/step - accuracy: 0.7102 - loss: 0.7618 - val_accuracy: 0.5491 - val_loss: 1.0830\n",
      "Epoch 45/100\n",
      "\u001b[1m41/41\u001b[0m \u001b[32m━━━━━━━━━━━━━━━━━━━━\u001b[0m\u001b[37m\u001b[0m \u001b[1m1s\u001b[0m 11ms/step - accuracy: 0.6690 - loss: 0.7846 - val_accuracy: 0.5767 - val_loss: 1.0739\n",
      "Epoch 46/100\n",
      "\u001b[1m41/41\u001b[0m \u001b[32m━━━━━━━━━━━━━━━━━━━━\u001b[0m\u001b[37m\u001b[0m \u001b[1m1s\u001b[0m 9ms/step - accuracy: 0.6678 - loss: 0.8321 - val_accuracy: 0.5521 - val_loss: 1.0855\n",
      "Epoch 47/100\n",
      "\u001b[1m41/41\u001b[0m \u001b[32m━━━━━━━━━━━━━━━━━━━━\u001b[0m\u001b[37m\u001b[0m \u001b[1m0s\u001b[0m 9ms/step - accuracy: 0.6802 - loss: 0.7730 - val_accuracy: 0.5491 - val_loss: 1.0842\n",
      "Epoch 48/100\n",
      "\u001b[1m41/41\u001b[0m \u001b[32m━━━━━━━━━━━━━━━━━━━━\u001b[0m\u001b[37m\u001b[0m \u001b[1m1s\u001b[0m 8ms/step - accuracy: 0.6939 - loss: 0.7806 - val_accuracy: 0.5706 - val_loss: 1.0762\n",
      "Epoch 49/100\n",
      "\u001b[1m41/41\u001b[0m \u001b[32m━━━━━━━━━━━━━━━━━━━━\u001b[0m\u001b[37m\u001b[0m \u001b[1m1s\u001b[0m 9ms/step - accuracy: 0.6600 - loss: 0.8167 - val_accuracy: 0.5552 - val_loss: 1.0749\n",
      "Epoch 50/100\n",
      "\u001b[1m41/41\u001b[0m \u001b[32m━━━━━━━━━━━━━━━━━━━━\u001b[0m\u001b[37m\u001b[0m \u001b[1m1s\u001b[0m 8ms/step - accuracy: 0.7309 - loss: 0.7136 - val_accuracy: 0.5429 - val_loss: 1.0651\n",
      "Epoch 51/100\n",
      "\u001b[1m41/41\u001b[0m \u001b[32m━━━━━━━━━━━━━━━━━━━━\u001b[0m\u001b[37m\u001b[0m \u001b[1m0s\u001b[0m 8ms/step - accuracy: 0.6998 - loss: 0.7915 - val_accuracy: 0.5890 - val_loss: 1.0685\n",
      "Epoch 52/100\n",
      "\u001b[1m41/41\u001b[0m \u001b[32m━━━━━━━━━━━━━━━━━━━━\u001b[0m\u001b[37m\u001b[0m \u001b[1m0s\u001b[0m 8ms/step - accuracy: 0.6954 - loss: 0.7376 - val_accuracy: 0.5613 - val_loss: 1.0675\n",
      "Epoch 53/100\n",
      "\u001b[1m41/41\u001b[0m \u001b[32m━━━━━━━━━━━━━━━━━━━━\u001b[0m\u001b[37m\u001b[0m \u001b[1m0s\u001b[0m 9ms/step - accuracy: 0.7123 - loss: 0.7251 - val_accuracy: 0.5736 - val_loss: 1.0761\n",
      "Epoch 54/100\n",
      "\u001b[1m41/41\u001b[0m \u001b[32m━━━━━━━━━━━━━━━━━━━━\u001b[0m\u001b[37m\u001b[0m \u001b[1m0s\u001b[0m 9ms/step - accuracy: 0.7301 - loss: 0.7085 - val_accuracy: 0.5675 - val_loss: 1.0701\n",
      "Epoch 55/100\n",
      "\u001b[1m41/41\u001b[0m \u001b[32m━━━━━━━━━━━━━━━━━━━━\u001b[0m\u001b[37m\u001b[0m \u001b[1m0s\u001b[0m 9ms/step - accuracy: 0.7076 - loss: 0.7076 - val_accuracy: 0.5798 - val_loss: 1.0774\n",
      "Epoch 56/100\n",
      "\u001b[1m41/41\u001b[0m \u001b[32m━━━━━━━━━━━━━━━━━━━━\u001b[0m\u001b[37m\u001b[0m \u001b[1m1s\u001b[0m 8ms/step - accuracy: 0.7035 - loss: 0.7080 - val_accuracy: 0.5736 - val_loss: 1.0742\n",
      "Epoch 57/100\n",
      "\u001b[1m41/41\u001b[0m \u001b[32m━━━━━━━━━━━━━━━━━━━━\u001b[0m\u001b[37m\u001b[0m \u001b[1m0s\u001b[0m 9ms/step - accuracy: 0.7332 - loss: 0.6949 - val_accuracy: 0.6104 - val_loss: 1.0597\n",
      "Epoch 58/100\n",
      "\u001b[1m41/41\u001b[0m \u001b[32m━━━━━━━━━━━━━━━━━━━━\u001b[0m\u001b[37m\u001b[0m \u001b[1m0s\u001b[0m 10ms/step - accuracy: 0.7172 - loss: 0.7219 - val_accuracy: 0.5828 - val_loss: 1.0619\n",
      "Epoch 59/100\n",
      "\u001b[1m41/41\u001b[0m \u001b[32m━━━━━━━━━━━━━━━━━━━━\u001b[0m\u001b[37m\u001b[0m \u001b[1m0s\u001b[0m 9ms/step - accuracy: 0.7460 - loss: 0.6779 - val_accuracy: 0.5951 - val_loss: 1.0581\n",
      "Epoch 60/100\n",
      "\u001b[1m41/41\u001b[0m \u001b[32m━━━━━━━━━━━━━━━━━━━━\u001b[0m\u001b[37m\u001b[0m \u001b[1m1s\u001b[0m 10ms/step - accuracy: 0.7193 - loss: 0.6972 - val_accuracy: 0.5859 - val_loss: 1.0590\n",
      "Epoch 61/100\n",
      "\u001b[1m41/41\u001b[0m \u001b[32m━━━━━━━━━━━━━━━━━━━━\u001b[0m\u001b[37m\u001b[0m \u001b[1m1s\u001b[0m 9ms/step - accuracy: 0.7117 - loss: 0.7188 - val_accuracy: 0.5644 - val_loss: 1.0679\n",
      "Epoch 62/100\n",
      "\u001b[1m41/41\u001b[0m \u001b[32m━━━━━━━━━━━━━━━━━━━━\u001b[0m\u001b[37m\u001b[0m \u001b[1m1s\u001b[0m 8ms/step - accuracy: 0.7375 - loss: 0.6386 - val_accuracy: 0.5798 - val_loss: 1.0864\n",
      "Epoch 63/100\n",
      "\u001b[1m41/41\u001b[0m \u001b[32m━━━━━━━━━━━━━━━━━━━━\u001b[0m\u001b[37m\u001b[0m \u001b[1m1s\u001b[0m 10ms/step - accuracy: 0.7136 - loss: 0.7033 - val_accuracy: 0.5767 - val_loss: 1.0681\n",
      "Epoch 64/100\n",
      "\u001b[1m41/41\u001b[0m \u001b[32m━━━━━━━━━━━━━━━━━━━━\u001b[0m\u001b[37m\u001b[0m \u001b[1m0s\u001b[0m 8ms/step - accuracy: 0.7567 - loss: 0.6628 - val_accuracy: 0.5767 - val_loss: 1.0721\n",
      "Epoch 65/100\n",
      "\u001b[1m41/41\u001b[0m \u001b[32m━━━━━━━━━━━━━━━━━━━━\u001b[0m\u001b[37m\u001b[0m \u001b[1m1s\u001b[0m 8ms/step - accuracy: 0.7495 - loss: 0.6517 - val_accuracy: 0.5951 - val_loss: 1.0625\n",
      "Epoch 66/100\n",
      "\u001b[1m41/41\u001b[0m \u001b[32m━━━━━━━━━━━━━━━━━━━━\u001b[0m\u001b[37m\u001b[0m \u001b[1m1s\u001b[0m 9ms/step - accuracy: 0.7501 - loss: 0.6707 - val_accuracy: 0.5951 - val_loss: 1.0597\n",
      "Epoch 67/100\n",
      "\u001b[1m41/41\u001b[0m \u001b[32m━━━━━━━━━━━━━━━━━━━━\u001b[0m\u001b[37m\u001b[0m \u001b[1m0s\u001b[0m 9ms/step - accuracy: 0.7304 - loss: 0.6915 - val_accuracy: 0.5920 - val_loss: 1.0526\n",
      "Epoch 68/100\n",
      "\u001b[1m41/41\u001b[0m \u001b[32m━━━━━━━━━━━━━━━━━━━━\u001b[0m\u001b[37m\u001b[0m \u001b[1m0s\u001b[0m 9ms/step - accuracy: 0.7260 - loss: 0.6820 - val_accuracy: 0.6104 - val_loss: 1.0508\n",
      "Epoch 69/100\n",
      "\u001b[1m41/41\u001b[0m \u001b[32m━━━━━━━━━━━━━━━━━━━━\u001b[0m\u001b[37m\u001b[0m \u001b[1m1s\u001b[0m 8ms/step - accuracy: 0.7466 - loss: 0.6437 - val_accuracy: 0.6104 - val_loss: 1.0451\n",
      "Epoch 70/100\n",
      "\u001b[1m41/41\u001b[0m \u001b[32m━━━━━━━━━━━━━━━━━━━━\u001b[0m\u001b[37m\u001b[0m \u001b[1m0s\u001b[0m 8ms/step - accuracy: 0.7506 - loss: 0.6491 - val_accuracy: 0.6043 - val_loss: 1.0508\n",
      "Epoch 71/100\n",
      "\u001b[1m41/41\u001b[0m \u001b[32m━━━━━━━━━━━━━━━━━━━━\u001b[0m\u001b[37m\u001b[0m \u001b[1m0s\u001b[0m 8ms/step - accuracy: 0.7465 - loss: 0.6481 - val_accuracy: 0.6135 - val_loss: 1.0570\n",
      "Epoch 72/100\n",
      "\u001b[1m41/41\u001b[0m \u001b[32m━━━━━━━━━━━━━━━━━━━━\u001b[0m\u001b[37m\u001b[0m \u001b[1m0s\u001b[0m 8ms/step - accuracy: 0.7574 - loss: 0.6306 - val_accuracy: 0.6135 - val_loss: 1.0525\n",
      "Epoch 73/100\n",
      "\u001b[1m41/41\u001b[0m \u001b[32m━━━━━━━━━━━━━━━━━━━━\u001b[0m\u001b[37m\u001b[0m \u001b[1m1s\u001b[0m 10ms/step - accuracy: 0.7496 - loss: 0.6584 - val_accuracy: 0.5798 - val_loss: 1.0744\n",
      "Epoch 74/100\n",
      "\u001b[1m41/41\u001b[0m \u001b[32m━━━━━━━━━━━━━━━━━━━━\u001b[0m\u001b[37m\u001b[0m \u001b[1m1s\u001b[0m 8ms/step - accuracy: 0.7436 - loss: 0.6238 - val_accuracy: 0.5798 - val_loss: 1.0732\n",
      "Epoch 75/100\n",
      "\u001b[1m41/41\u001b[0m \u001b[32m━━━━━━━━━━━━━━━━━━━━\u001b[0m\u001b[37m\u001b[0m \u001b[1m0s\u001b[0m 8ms/step - accuracy: 0.7627 - loss: 0.6242 - val_accuracy: 0.6043 - val_loss: 1.0866\n",
      "Epoch 76/100\n",
      "\u001b[1m41/41\u001b[0m \u001b[32m━━━━━━━━━━━━━━━━━━━━\u001b[0m\u001b[37m\u001b[0m \u001b[1m1s\u001b[0m 11ms/step - accuracy: 0.7311 - loss: 0.6932 - val_accuracy: 0.5982 - val_loss: 1.0800\n",
      "Epoch 77/100\n",
      "\u001b[1m41/41\u001b[0m \u001b[32m━━━━━━━━━━━━━━━━━━━━\u001b[0m\u001b[37m\u001b[0m \u001b[1m1s\u001b[0m 9ms/step - accuracy: 0.7859 - loss: 0.5809 - val_accuracy: 0.5982 - val_loss: 1.0751\n",
      "Epoch 78/100\n",
      "\u001b[1m41/41\u001b[0m \u001b[32m━━━━━━━━━━━━━━━━━━━━\u001b[0m\u001b[37m\u001b[0m \u001b[1m1s\u001b[0m 9ms/step - accuracy: 0.8014 - loss: 0.6040 - val_accuracy: 0.6012 - val_loss: 1.0630\n",
      "Epoch 79/100\n",
      "\u001b[1m41/41\u001b[0m \u001b[32m━━━━━━━━━━━━━━━━━━━━\u001b[0m\u001b[37m\u001b[0m \u001b[1m1s\u001b[0m 9ms/step - accuracy: 0.7570 - loss: 0.6379 - val_accuracy: 0.6043 - val_loss: 1.0820\n",
      "✅ Neural Network training complete.\n",
      "✅ Neural Network model saved at F:/Portfolio Projects/fault_prediction_project/models\\deep_learning_model.keras\n",
      "\u001b[1m11/11\u001b[0m \u001b[32m━━━━━━━━━━━━━━━━━━━━\u001b[0m\u001b[37m\u001b[0m \u001b[1m0s\u001b[0m 18ms/step\n"
     ]
    },
    {
     "name": "stderr",
     "output_type": "stream",
     "text": [
      "2025/01/29 23:13:05 WARNING mlflow.keras.save: You are saving a Keras model without specifying model signature.\n",
      "2025/01/29 23:13:28 WARNING mlflow.models.model: Model logged without a signature and input example. Please set `input_example` parameter when logging the model to auto infer the model signature.\n"
     ]
    },
    {
     "name": "stdout",
     "output_type": "stream",
     "text": [
      "🎯 Neural Network - Accuracy: 0.61, F1 Score: 0.60\n"
     ]
    }
   ],
   "source": [
    "# -----------------------------------\n",
    "# 🤖 **Train Neural Network Model**\n",
    "# -----------------------------------\n",
    "print(\"\\n🤖 Training Neural Network Model...\")\n",
    "\n",
    "with mlflow.start_run(run_name=\"Deep Learning Model\"):\n",
    "    try:\n",
    "        # ✅ Encode target labels\n",
    "        label_encoder = LabelEncoder()\n",
    "        y_train_encoded = label_encoder.fit_transform(y_train)\n",
    "        y_test_encoded = label_encoder.transform(y_test)\n",
    "\n",
    "        # ✅ One-hot encoding for categorical classification\n",
    "        y_train_onehot = tf.keras.utils.to_categorical(y_train_encoded, num_classes=len(label_encoder.classes_))\n",
    "        y_test_onehot = tf.keras.utils.to_categorical(y_test_encoded, num_classes=len(label_encoder.classes_))\n",
    "\n",
    "        # ✅ Define Neural Network Model\n",
    "        model = Sequential([\n",
    "            Dense(128, activation='relu', input_dim=X_train.shape[1]),\n",
    "            Dropout(0.3),\n",
    "            Dense(64, activation='relu'),\n",
    "            Dropout(0.3),\n",
    "            Dense(32, activation='relu'),\n",
    "            Dense(len(label_encoder.classes_), activation='softmax')\n",
    "        ])\n",
    "        model.compile(optimizer=Adam(learning_rate=0.001),\n",
    "                      loss='categorical_crossentropy',\n",
    "                      metrics=['accuracy'])\n",
    "\n",
    "        # ✅ Train the Neural Network\n",
    "        print(\"🚀 Training the Neural Network...\")\n",
    "        early_stopping = EarlyStopping(monitor='val_loss', patience=10, restore_best_weights=True)\n",
    "        model.fit(X_train, y_train_onehot,\n",
    "                  validation_data=(X_test, y_test_onehot),\n",
    "                  epochs=100, batch_size=32, callbacks=[early_stopping], verbose=1)\n",
    "\n",
    "        print(\"✅ Neural Network training complete.\")\n",
    "\n",
    "        # ✅ Save model locally\n",
    "        model_dir = \"F:/Portfolio Projects/fault_prediction_project/models\"\n",
    "        os.makedirs(model_dir, exist_ok=True)\n",
    "        model_path = os.path.join(model_dir, \"deep_learning_model.keras\")\n",
    "        model.save(model_path)\n",
    "        print(f\"✅ Neural Network model saved at {model_path}\")\n",
    "\n",
    "        # ✅ Evaluate Model\n",
    "        loss, accuracy_nn = model.evaluate(X_test, y_test_onehot, verbose=0)\n",
    "        y_pred_nn = model.predict(X_test)\n",
    "        y_pred_classes_nn = tf.argmax(y_pred_nn, axis=1)\n",
    "        f1_nn = f1_score(y_test_encoded, y_pred_classes_nn, average=\"weighted\")\n",
    "\n",
    "        # ✅ Log model & metrics to MLflow\n",
    "        mlflow.log_param(\"Model\", \"Deep Learning\")\n",
    "        mlflow.log_param(\"Learning Rate\", 0.001)\n",
    "        mlflow.log_param(\"Batch Size\", 32)\n",
    "        mlflow.log_metric(\"Accuracy\", accuracy_nn)\n",
    "        mlflow.log_metric(\"F1 Score\", f1_nn)\n",
    "        mlflow.keras.log_model(model, \"deep_learning_model\")\n",
    "\n",
    "        print(f\"🎯 Neural Network - Accuracy: {accuracy_nn:.2f}, F1 Score: {f1_nn:.2f}\")\n",
    "\n",
    "    except Exception as e:\n",
    "        print(f\"❌ Error during Neural Network training: {e}\")"
   ]
  },
  {
   "cell_type": "code",
   "execution_count": 33,
   "metadata": {},
   "outputs": [
    {
     "name": "stdout",
     "output_type": "stream",
     "text": [
      "\n",
      "🏆 Comparing Models & Saving Best One...\n",
      "🏆 ✅ Best model saved as best_rf_model.pkl with accuracy: 0.66\n"
     ]
    }
   ],
   "source": [
    "# -----------------------------------\n",
    "# 🏆 **Select Best Model & Save**\n",
    "# -----------------------------------\n",
    "print(\"\\n🏆 Comparing Models & Saving Best One...\")\n",
    "\n",
    "best_model = rf_model if accuracy_rf >= accuracy_nn else model\n",
    "best_model_name = \"best_rf_model.pkl\" if accuracy_rf >= accuracy_nn else \"best_nn_model.keras\"\n",
    "best_model_path = f\"F:/Portfolio Projects/fault_prediction_project/models/{best_model_name}\"\n",
    "\n",
    "if isinstance(best_model, RandomForestClassifier):\n",
    "    joblib.dump(best_model, best_model_path)\n",
    "else:\n",
    "    best_model.save(best_model_path)\n",
    "\n",
    "print(f\"🏆 ✅ Best model saved as {best_model_name} with accuracy: {max(accuracy_rf, accuracy_nn):.2f}\")"
   ]
  }
 ],
 "metadata": {
  "kernelspec": {
   "display_name": "Python 3",
   "language": "python",
   "name": "python3"
  },
  "language_info": {
   "codemirror_mode": {
    "name": "ipython",
    "version": 3
   },
   "file_extension": ".py",
   "mimetype": "text/x-python",
   "name": "python",
   "nbconvert_exporter": "python",
   "pygments_lexer": "ipython3",
   "version": "3.12.7"
  }
 },
 "nbformat": 4,
 "nbformat_minor": 2
}
